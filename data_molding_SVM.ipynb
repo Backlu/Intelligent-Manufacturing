{
 "cells": [
  {
   "cell_type": "markdown",
   "metadata": {},
   "source": [
    "# Case - 成型機PHM,  案例分類 - SVM\n",
    "\n",
    "Copyright © 2019 Hsu Shih-Chieh \n",
    "\n",
    "利用SVM建立案例模型並分類辨別\n",
    "\n",
    "算法筆記: https://hackmd.io/@JHSU/H1YiP5eur\n"
   ]
  },
  {
   "cell_type": "code",
   "execution_count": 1,
   "metadata": {
    "scrolled": true
   },
   "outputs": [
    {
     "name": "stderr",
     "output_type": "stream",
     "text": [
      "Using TensorFlow backend.\n"
     ]
    },
    {
     "name": "stdout",
     "output_type": "stream",
     "text": [
      "WARNING:tensorflow:\n",
      "The TensorFlow contrib module will not be included in TensorFlow 2.0.\n",
      "For more information, please see:\n",
      "  * https://github.com/tensorflow/community/blob/master/rfcs/20180907-contrib-sunset.md\n",
      "  * https://github.com/tensorflow/addons\n",
      "  * https://github.com/tensorflow/io (for I/O related ops)\n",
      "If you depend on functionality not listed there, please file an issue.\n",
      "\n"
     ]
    },
    {
     "name": "stderr",
     "output_type": "stream",
     "text": [
      "WARNING:tensorflow:\n",
      "The TensorFlow contrib module will not be included in TensorFlow 2.0.\n",
      "For more information, please see:\n",
      "  * https://github.com/tensorflow/community/blob/master/rfcs/20180907-contrib-sunset.md\n",
      "  * https://github.com/tensorflow/addons\n",
      "  * https://github.com/tensorflow/io (for I/O related ops)\n",
      "If you depend on functionality not listed there, please file an issue.\n",
      "\n"
     ]
    },
    {
     "name": "stdout",
     "output_type": "stream",
     "text": [
      "Segmentation Models: using `keras` framework.\n"
     ]
    },
    {
     "name": "stderr",
     "output_type": "stream",
     "text": [
      "/usr/local/lib/python3.6/site-packages/sklearn/externals/joblib/__init__.py:15: DeprecationWarning: sklearn.externals.joblib is deprecated in 0.21 and will be removed in 0.23. Please import this functionality directly from joblib, which can be installed with: pip install joblib. If this warning is raised when loading pickled models, you may need to re-serialize those models with scikit-learn 0.21+.\n",
      "  warnings.warn(msg, category=DeprecationWarning)\n"
     ]
    }
   ],
   "source": [
    "%load_ext autoreload\n",
    "%autoreload 2\n",
    "%matplotlib inline\n",
    "import warnings, matplotlib, datetime\n",
    "warnings.filterwarnings(\"ignore\")\n",
    "import numpy as np\n",
    "import pandas as pd\n",
    "import matplotlib as mpl\n",
    "from matplotlib import pyplot as plt\n",
    "from datasets import load_moldcase\n",
    "from utils import set_font_cn\n",
    "from IPython.display import display\n",
    "from tqdm.notebook import tqdm\n",
    "from collections import Counter\n",
    "from sklearn.preprocessing import StandardScaler\n",
    "from sklearn.decomposition import KernelPCA, PCA\n",
    "from sklearn.pipeline import Pipeline\n",
    "from sklearn.svm import SVC\n",
    "from sklearn.metrics import accuracy_score, recall_score, classification_report\n",
    "from sklearn.model_selection import StratifiedKFold\n",
    "from sklearn import metrics\n",
    "\n",
    "set_font_cn()"
   ]
  },
  {
   "cell_type": "markdown",
   "metadata": {},
   "source": [
    "### Load Data"
   ]
  },
  {
   "cell_type": "code",
   "execution_count": 7,
   "metadata": {},
   "outputs": [],
   "source": [
    "clist=[]\n",
    "for i in range(1,6):\n",
    "    clist.append(\"case%02d\"%i)\n"
   ]
  },
  {
   "cell_type": "code",
   "execution_count": 8,
   "metadata": {},
   "outputs": [
    {
     "name": "stdout",
     "output_type": "stream",
     "text": [
      "成型機案例數據\n",
      "---------------------------\n",
      "\n",
      "**Data Set Characteristics::**\n",
      "\n",
      "    :控制器數據: 從控制器取出的螺桿位置, 油壓缸壓力, 料管溫度的數據統計值, 總共有44種數據\n",
      "    \n",
      "    :設備健康值數據: 透過高維度SPC監控方法(PCA T2/SPE)計算後的設備健康值, 設備運作時實時運算, 並存入sqlite\n",
      "    \n",
      "    :spccol_mapping: PLC數據欄位的中英文對照表\n",
      "    \n",
      "    :caseinfo: 每一個案例的詳細資訊\n",
      "\n",
      "\n",
      "\n",
      "**讀取數據Sample Code**\n",
      "\n",
      "::\n",
      "    data= load_moldcase()\n",
      "    c = data.case01_caseinfo\n",
      "    df_ctr = data.case01_plc\n",
      "    df_hv = data.case01_hv\n",
      "\n",
      "\n",
      "**Model Characteristics**\n",
      "    \n",
      "    :設備異常監控: PCA T2/SPE\n",
      "    \n",
      "    :設備異常分類(方法一): 案例的參數趨勢分析\n",
      "        - Source Code: data_molding_TrendAnalysis.ipynb\n",
      "        - 算法筆記: https://hackmd.io/@JHSU/By3uWuwPH\n",
      "    \n",
      "    :設備異常分類(方法二): 分析每一個兩個案例的之間的參數變化相似性\n",
      "        - Source Code: data_molding_DTW.ipynb\n",
      "        - 算法筆記: https://hackmd.io/@JHSU/HyCnabcPH\n",
      "        \n",
      "    :設備異常分類(方法三): 關聯規則\n",
      "        - Source Code: data_molding_apriori.ipynb\n",
      "        - 算法筆記: https://hackmd.io/@JHSU/BJCyWchPr\n",
      "        \n",
      "        \n",
      "\n",
      "專案說明：\n",
      "這個專案與控制器廠商合作, 從控制器中取出螺桿位置, 油壓缸壓力, 料管溫度這三項特徵數據, 但因為控制器性能限制, 無法將實時數據取出, 退而求其次, 透過控制器本身的SPC監控功能, 取出這三項特徵的44種統計數據(ex: 最大值, 最小值,...), 並透過這些數據進行設備異常監控與設備異常分類\n",
      "\n",
      "\n",
      "\n"
     ]
    }
   ],
   "source": [
    "data= load_moldcase(clist)\n",
    "print(data.DESCR)"
   ]
  },
  {
   "cell_type": "markdown",
   "metadata": {},
   "source": [
    "### Pre-process\n",
    "準備SVC模型訓練要用的數據\n",
    "    - 控制器數據 - df_ctr\n"
   ]
  },
  {
   "cell_type": "code",
   "execution_count": 9,
   "metadata": {},
   "outputs": [
    {
     "name": "stdout",
     "output_type": "stream",
     "text": [
      "D2 A05 9/10 清模\n",
      "D2 A05 9/11 清模\n",
      "D2 A05 9/12 清模\n",
      "D2 A01 9/9 清模\n",
      "D2 A05 9/9 清模\n",
      "0    622\n",
      "1      7\n",
      "Name: isDefect, dtype: int64\n"
     ]
    }
   ],
   "source": [
    "\n",
    "spc_feature=['SPC_7','SPC_6','SPC_40','SPC_9','SPC_19','SPC_20','SPC_24','SPC_28','SPC_32','SPC_33']\n",
    "spccol_mapping = data.spccol_mapping\n",
    "dflist = []\n",
    "for cname in clist:\n",
    "    c = data[f'{cname}_caseinfo']\n",
    "    print(c.cname)\n",
    "    df_ctr = data[f'{cname}_plc'] \n",
    "    df_ctr['dt'] = df_ctr['dt'].map(lambda x: datetime.datetime.strptime(x, '%Y-%m-%d %H:%M:%S.%f'))\n",
    "    df_hv = data[f'{cname}_hv'] \n",
    "    if (df_ctr.shape[0]==0) or (df_hv.shape[0]==0):\n",
    "        continue\n",
    "    #df_hv['is_defect'] =  df_hv['isdefect_clamp'] + df_hv['isdefect_eject'] + df_hv['isdefect_inject'] + df_hv['isdefect_temp']\n",
    "    df_hv['is_defect'] =  df_hv['isdefect_clamp'] \n",
    "    df_hv['is_defect'] = df_hv['is_defect'].map(lambda x:x>=1)\n",
    "    defectmolds = df_hv[df_hv['is_defect']>=1]['moldidx'].values\n",
    "    df_ctr['isDefect'] = df_ctr['SPC_0'].map(lambda x: 1 if x in defectmolds else 0)\n",
    "    df_ctr.loc[:c.evt_str]['isDefect']=0\n",
    "    df_ctr = df_ctr[:c.evt_end]\n",
    "    dflist.append(df_ctr)\n",
    "\n",
    "if len(dflist)!=0:\n",
    "    df_ctr = pd.concat(dflist)\n",
    "    print(df_ctr['isDefect'].value_counts())\n",
    "else:\n",
    "    print('Get Data Error')"
   ]
  },
  {
   "cell_type": "markdown",
   "metadata": {},
   "source": [
    "### 模型訓練 \n",
    "以下為算法步驟\n",
    "1. StandardScaler\n",
    "2. PCA\n",
    "3. SVC\n",
    "4. KFold Validataion\n",
    "5. use all training data to train a final model"
   ]
  },
  {
   "cell_type": "code",
   "execution_count": 10,
   "metadata": {
    "scrolled": false
   },
   "outputs": [
    {
     "name": "stdout",
     "output_type": "stream",
     "text": [
      "KFold validataion\n",
      "==== REPORT ====\n",
      "acc=0.9893842887473461, recall=0.0\n"
     ]
    },
    {
     "data": {
      "text/html": [
       "<div>\n",
       "<style scoped>\n",
       "    .dataframe tbody tr th:only-of-type {\n",
       "        vertical-align: middle;\n",
       "    }\n",
       "\n",
       "    .dataframe tbody tr th {\n",
       "        vertical-align: top;\n",
       "    }\n",
       "\n",
       "    .dataframe thead th {\n",
       "        text-align: right;\n",
       "    }\n",
       "</style>\n",
       "<table border=\"1\" class=\"dataframe\">\n",
       "  <thead>\n",
       "    <tr style=\"text-align: right;\">\n",
       "      <th></th>\n",
       "      <th>0</th>\n",
       "      <th>1</th>\n",
       "    </tr>\n",
       "  </thead>\n",
       "  <tbody>\n",
       "    <tr>\n",
       "      <th>0</th>\n",
       "      <td>466</td>\n",
       "      <td>0</td>\n",
       "    </tr>\n",
       "    <tr>\n",
       "      <th>1</th>\n",
       "      <td>5</td>\n",
       "      <td>0</td>\n",
       "    </tr>\n",
       "  </tbody>\n",
       "</table>\n",
       "</div>"
      ],
      "text/plain": [
       "     0  1\n",
       "0  466  0\n",
       "1    5  0"
      ]
     },
     "metadata": {},
     "output_type": "display_data"
    },
    {
     "data": {
      "image/png": "[encoded data removed]",
      "text/plain": [
       "<Figure size 432x216 with 1 Axes>"
      ]
     },
     "metadata": {
      "needs_background": "light"
     },
     "output_type": "display_data"
    },
    {
     "name": "stdout",
     "output_type": "stream",
     "text": [
      "==== REPORT ====\n",
      "acc=0.9873417721518988, recall=0.0\n"
     ]
    },
    {
     "data": {
      "text/html": [
       "<div>\n",
       "<style scoped>\n",
       "    .dataframe tbody tr th:only-of-type {\n",
       "        vertical-align: middle;\n",
       "    }\n",
       "\n",
       "    .dataframe tbody tr th {\n",
       "        vertical-align: top;\n",
       "    }\n",
       "\n",
       "    .dataframe thead th {\n",
       "        text-align: right;\n",
       "    }\n",
       "</style>\n",
       "<table border=\"1\" class=\"dataframe\">\n",
       "  <thead>\n",
       "    <tr style=\"text-align: right;\">\n",
       "      <th></th>\n",
       "      <th>0</th>\n",
       "      <th>1</th>\n",
       "    </tr>\n",
       "  </thead>\n",
       "  <tbody>\n",
       "    <tr>\n",
       "      <th>0</th>\n",
       "      <td>156</td>\n",
       "      <td>0</td>\n",
       "    </tr>\n",
       "    <tr>\n",
       "      <th>1</th>\n",
       "      <td>2</td>\n",
       "      <td>0</td>\n",
       "    </tr>\n",
       "  </tbody>\n",
       "</table>\n",
       "</div>"
      ],
      "text/plain": [
       "     0  1\n",
       "0  156  0\n",
       "1    2  0"
      ]
     },
     "metadata": {},
     "output_type": "display_data"
    },
    {
     "data": {
      "image/png": "[encoded data removed]",
      "text/plain": [
       "<Figure size 432x216 with 1 Axes>"
      ]
     },
     "metadata": {
      "needs_background": "light"
     },
     "output_type": "display_data"
    },
    {
     "name": "stdout",
     "output_type": "stream",
     "text": [
      "==== REPORT ====\n",
      "acc=0.9936305732484076, recall=0.4\n"
     ]
    },
    {
     "data": {
      "text/html": [
       "<div>\n",
       "<style scoped>\n",
       "    .dataframe tbody tr th:only-of-type {\n",
       "        vertical-align: middle;\n",
       "    }\n",
       "\n",
       "    .dataframe tbody tr th {\n",
       "        vertical-align: top;\n",
       "    }\n",
       "\n",
       "    .dataframe thead th {\n",
       "        text-align: right;\n",
       "    }\n",
       "</style>\n",
       "<table border=\"1\" class=\"dataframe\">\n",
       "  <thead>\n",
       "    <tr style=\"text-align: right;\">\n",
       "      <th></th>\n",
       "      <th>0</th>\n",
       "      <th>1</th>\n",
       "    </tr>\n",
       "  </thead>\n",
       "  <tbody>\n",
       "    <tr>\n",
       "      <th>0</th>\n",
       "      <td>466</td>\n",
       "      <td>0</td>\n",
       "    </tr>\n",
       "    <tr>\n",
       "      <th>1</th>\n",
       "      <td>3</td>\n",
       "      <td>2</td>\n",
       "    </tr>\n",
       "  </tbody>\n",
       "</table>\n",
       "</div>"
      ],
      "text/plain": [
       "     0  1\n",
       "0  466  0\n",
       "1    3  2"
      ]
     },
     "metadata": {},
     "output_type": "display_data"
    },
    {
     "data": {
      "image/png": "[encoded data removed]",
      "text/plain": [
       "<Figure size 432x216 with 1 Axes>"
      ]
     },
     "metadata": {
      "needs_background": "light"
     },
     "output_type": "display_data"
    },
    {
     "name": "stdout",
     "output_type": "stream",
     "text": [
      "==== REPORT ====\n",
      "acc=0.9873417721518988, recall=0.0\n"
     ]
    },
    {
     "data": {
      "text/html": [
       "<div>\n",
       "<style scoped>\n",
       "    .dataframe tbody tr th:only-of-type {\n",
       "        vertical-align: middle;\n",
       "    }\n",
       "\n",
       "    .dataframe tbody tr th {\n",
       "        vertical-align: top;\n",
       "    }\n",
       "\n",
       "    .dataframe thead th {\n",
       "        text-align: right;\n",
       "    }\n",
       "</style>\n",
       "<table border=\"1\" class=\"dataframe\">\n",
       "  <thead>\n",
       "    <tr style=\"text-align: right;\">\n",
       "      <th></th>\n",
       "      <th>0</th>\n",
       "      <th>1</th>\n",
       "    </tr>\n",
       "  </thead>\n",
       "  <tbody>\n",
       "    <tr>\n",
       "      <th>0</th>\n",
       "      <td>156</td>\n",
       "      <td>0</td>\n",
       "    </tr>\n",
       "    <tr>\n",
       "      <th>1</th>\n",
       "      <td>2</td>\n",
       "      <td>0</td>\n",
       "    </tr>\n",
       "  </tbody>\n",
       "</table>\n",
       "</div>"
      ],
      "text/plain": [
       "     0  1\n",
       "0  156  0\n",
       "1    2  0"
      ]
     },
     "metadata": {},
     "output_type": "display_data"
    },
    {
     "data": {
      "image/png": "[encoded data removed]",
      "text/plain": [
       "<Figure size 432x216 with 1 Axes>"
      ]
     },
     "metadata": {
      "needs_background": "light"
     },
     "output_type": "display_data"
    },
    {
     "name": "stdout",
     "output_type": "stream",
     "text": [
      "==== REPORT ====\n",
      "acc=0.9936440677966102, recall=0.4\n"
     ]
    },
    {
     "data": {
      "text/html": [
       "<div>\n",
       "<style scoped>\n",
       "    .dataframe tbody tr th:only-of-type {\n",
       "        vertical-align: middle;\n",
       "    }\n",
       "\n",
       "    .dataframe tbody tr th {\n",
       "        vertical-align: top;\n",
       "    }\n",
       "\n",
       "    .dataframe thead th {\n",
       "        text-align: right;\n",
       "    }\n",
       "</style>\n",
       "<table border=\"1\" class=\"dataframe\">\n",
       "  <thead>\n",
       "    <tr style=\"text-align: right;\">\n",
       "      <th></th>\n",
       "      <th>0</th>\n",
       "      <th>1</th>\n",
       "    </tr>\n",
       "  </thead>\n",
       "  <tbody>\n",
       "    <tr>\n",
       "      <th>0</th>\n",
       "      <td>467</td>\n",
       "      <td>0</td>\n",
       "    </tr>\n",
       "    <tr>\n",
       "      <th>1</th>\n",
       "      <td>3</td>\n",
       "      <td>2</td>\n",
       "    </tr>\n",
       "  </tbody>\n",
       "</table>\n",
       "</div>"
      ],
      "text/plain": [
       "     0  1\n",
       "0  467  0\n",
       "1    3  2"
      ]
     },
     "metadata": {},
     "output_type": "display_data"
    },
    {
     "data": {
      "image/png": "[encoded data removed]",
      "text/plain": [
       "<Figure size 432x216 with 1 Axes>"
      ]
     },
     "metadata": {
      "needs_background": "light"
     },
     "output_type": "display_data"
    },
    {
     "name": "stdout",
     "output_type": "stream",
     "text": [
      "==== REPORT ====\n",
      "acc=0.9872611464968153, recall=0.0\n"
     ]
    },
    {
     "data": {
      "text/html": [
       "<div>\n",
       "<style scoped>\n",
       "    .dataframe tbody tr th:only-of-type {\n",
       "        vertical-align: middle;\n",
       "    }\n",
       "\n",
       "    .dataframe tbody tr th {\n",
       "        vertical-align: top;\n",
       "    }\n",
       "\n",
       "    .dataframe thead th {\n",
       "        text-align: right;\n",
       "    }\n",
       "</style>\n",
       "<table border=\"1\" class=\"dataframe\">\n",
       "  <thead>\n",
       "    <tr style=\"text-align: right;\">\n",
       "      <th></th>\n",
       "      <th>0</th>\n",
       "      <th>1</th>\n",
       "    </tr>\n",
       "  </thead>\n",
       "  <tbody>\n",
       "    <tr>\n",
       "      <th>0</th>\n",
       "      <td>155</td>\n",
       "      <td>0</td>\n",
       "    </tr>\n",
       "    <tr>\n",
       "      <th>1</th>\n",
       "      <td>2</td>\n",
       "      <td>0</td>\n",
       "    </tr>\n",
       "  </tbody>\n",
       "</table>\n",
       "</div>"
      ],
      "text/plain": [
       "     0  1\n",
       "0  155  0\n",
       "1    2  0"
      ]
     },
     "metadata": {},
     "output_type": "display_data"
    },
    {
     "data": {
      "image/png": "[encoded data removed]",
      "text/plain": [
       "<Figure size 432x216 with 1 Axes>"
      ]
     },
     "metadata": {
      "needs_background": "light"
     },
     "output_type": "display_data"
    },
    {
     "name": "stdout",
     "output_type": "stream",
     "text": [
      "==== REPORT ====\n",
      "acc=0.9873150105708245, recall=0.3333333333333333\n"
     ]
    },
    {
     "data": {
      "text/html": [
       "<div>\n",
       "<style scoped>\n",
       "    .dataframe tbody tr th:only-of-type {\n",
       "        vertical-align: middle;\n",
       "    }\n",
       "\n",
       "    .dataframe tbody tr th {\n",
       "        vertical-align: top;\n",
       "    }\n",
       "\n",
       "    .dataframe thead th {\n",
       "        text-align: right;\n",
       "    }\n",
       "</style>\n",
       "<table border=\"1\" class=\"dataframe\">\n",
       "  <thead>\n",
       "    <tr style=\"text-align: right;\">\n",
       "      <th></th>\n",
       "      <th>0</th>\n",
       "      <th>1</th>\n",
       "    </tr>\n",
       "  </thead>\n",
       "  <tbody>\n",
       "    <tr>\n",
       "      <th>0</th>\n",
       "      <td>465</td>\n",
       "      <td>2</td>\n",
       "    </tr>\n",
       "    <tr>\n",
       "      <th>1</th>\n",
       "      <td>4</td>\n",
       "      <td>2</td>\n",
       "    </tr>\n",
       "  </tbody>\n",
       "</table>\n",
       "</div>"
      ],
      "text/plain": [
       "     0  1\n",
       "0  465  2\n",
       "1    4  2"
      ]
     },
     "metadata": {},
     "output_type": "display_data"
    },
    {
     "data": {
      "image/png": "[encoded data removed]",
      "text/plain": [
       "<Figure size 432x216 with 1 Axes>"
      ]
     },
     "metadata": {
      "needs_background": "light"
     },
     "output_type": "display_data"
    },
    {
     "name": "stdout",
     "output_type": "stream",
     "text": [
      "==== REPORT ====\n",
      "acc=0.9871794871794872, recall=0.0\n"
     ]
    },
    {
     "data": {
      "text/html": [
       "<div>\n",
       "<style scoped>\n",
       "    .dataframe tbody tr th:only-of-type {\n",
       "        vertical-align: middle;\n",
       "    }\n",
       "\n",
       "    .dataframe tbody tr th {\n",
       "        vertical-align: top;\n",
       "    }\n",
       "\n",
       "    .dataframe thead th {\n",
       "        text-align: right;\n",
       "    }\n",
       "</style>\n",
       "<table border=\"1\" class=\"dataframe\">\n",
       "  <thead>\n",
       "    <tr style=\"text-align: right;\">\n",
       "      <th></th>\n",
       "      <th>0</th>\n",
       "      <th>1</th>\n",
       "    </tr>\n",
       "  </thead>\n",
       "  <tbody>\n",
       "    <tr>\n",
       "      <th>0</th>\n",
       "      <td>154</td>\n",
       "      <td>1</td>\n",
       "    </tr>\n",
       "    <tr>\n",
       "      <th>1</th>\n",
       "      <td>1</td>\n",
       "      <td>0</td>\n",
       "    </tr>\n",
       "  </tbody>\n",
       "</table>\n",
       "</div>"
      ],
      "text/plain": [
       "     0  1\n",
       "0  154  1\n",
       "1    1  0"
      ]
     },
     "metadata": {},
     "output_type": "display_data"
    },
    {
     "data": {
      "image/png": "[encoded data removed]",
      "text/plain": [
       "<Figure size 432x216 with 1 Axes>"
      ]
     },
     "metadata": {
      "needs_background": "light"
     },
     "output_type": "display_data"
    },
    {
     "data": {
      "text/plain": [
       "Pipeline(memory=None,\n",
       "         steps=[('sc',\n",
       "                 StandardScaler(copy=True, with_mean=True, with_std=True)),\n",
       "                ('pca',\n",
       "                 PCA(copy=True, iterated_power='auto', n_components=2,\n",
       "                     random_state=None, svd_solver='auto', tol=0.0,\n",
       "                     whiten=False)),\n",
       "                ('clf',\n",
       "                 SVC(C=1, cache_size=200, class_weight=None, coef0=0.0,\n",
       "                     decision_function_shape='ovr', degree=3, gamma=10,\n",
       "                     kernel='poly', max_iter=-1, probability=False,\n",
       "                     random_state=1, shrinking=True, tol=0.001,\n",
       "                     verbose=False))],\n",
       "         verbose=False)"
      ]
     },
     "execution_count": 10,
     "metadata": {},
     "output_type": "execute_result"
    }
   ],
   "source": [
    "def myclassification_report(y, pred, pca_X):\n",
    "    \"\"\"\n",
    "    分析Inference結果\n",
    "        - acccuracy, recall rate\n",
    "        - confusion matrix\n",
    "        - pca scatter plot\n",
    "    Parameters: NA\n",
    "    Returns: NA\n",
    "    \"\"\"                \n",
    "    print('==== REPORT ====')\n",
    "    print(f'acc={accuracy_score(y, pred)}, recall={recall_score(y, pred)}')\n",
    "    display(pd.DataFrame(metrics.confusion_matrix(y, pred)))\n",
    "    true_positive = [(pred==0)&(y==0)]\n",
    "    true_negative = [(pred==1)&(y==1)]\n",
    "    false_positive = [(pred==1)&(y==0)]\n",
    "    false_negative = [(pred==0)&(y==1)]\n",
    "    plt.figure(figsize=(6,3))\n",
    "    plt.subplot(1,2,1)\n",
    "    plt.scatter(pca_X[:,0][true_positive], pca_X[:,1][true_positive],c='b', label='true_positive')\n",
    "    plt.scatter(pca_X[:,0][true_negative], pca_X[:,1][true_negative],c='g', label='true_negative')\n",
    "    plt.scatter(pca_X[:,0][false_negative], pca_X[:,1][false_negative],c='r', label='false_negative')\n",
    "    plt.scatter(pca_X[:,0][false_positive], pca_X[:,1][false_positive],c='y', label='false_positive')\n",
    "    plt.xlabel('pc1')\n",
    "    plt.ylabel('pc2')\n",
    "    plt.legend()\n",
    "    plt.title('traing data predict result')    \n",
    "    plt.tight_layout()\n",
    "    plt.show()\n",
    "\n",
    "\n",
    "data_X = df_ctr[spc_feature]\n",
    "data_y = df_ctr['isDefect']\n",
    "pipe = Pipeline([('sc',StandardScaler()), ('pca',PCA(2)), ('clf', SVC(kernel='poly',random_state=1,gamma=10,C=1))])\n",
    "kfold=4\n",
    "skf = StratifiedKFold(n_splits=4, random_state=1, shuffle=True)\n",
    "print('KFold validataion')\n",
    "for tr_idx, ts_idx in skf.split(data_X, data_y):\n",
    "    tr_X, tr_y = data_X.iloc[tr_idx], data_y.iloc[tr_idx]\n",
    "    ts_X, ts_y = data_X.iloc[ts_idx], data_y.iloc[ts_idx]\n",
    "    pipe.fit(tr_X, tr_y)\n",
    "    tr_pred = pipe.predict(tr_X)\n",
    "    ts_pred = pipe.predict(ts_X)\n",
    "    pca_trX = pipe.named_steps['pca'].transform(tr_X)\n",
    "    pca_tsX = pipe.named_steps['pca'].transform(ts_X)\n",
    "    myclassification_report(tr_y, tr_pred, pca_trX)\n",
    "    myclassification_report(ts_y, ts_pred, pca_tsX)\n",
    "pipe.fit(data_X, data_y)        \n",
    "\n"
   ]
  },
  {
   "cell_type": "markdown",
   "metadata": {},
   "source": [
    "### Inference\n",
    "SVC Inference, steps:\n",
    "    1. StandardScaler\n",
    "    2. PCA\n",
    "    3. SVC\n",
    "    4. KFold Validataion\n",
    "    5. use all training data to train a final model\n"
   ]
  },
  {
   "cell_type": "code",
   "execution_count": 11,
   "metadata": {},
   "outputs": [
    {
     "name": "stdout",
     "output_type": "stream",
     "text": [
      "==== REPORT ====\n",
      "acc=0.9538461538461539, recall=0.0\n"
     ]
    },
    {
     "data": {
      "text/html": [
       "<div>\n",
       "<style scoped>\n",
       "    .dataframe tbody tr th:only-of-type {\n",
       "        vertical-align: middle;\n",
       "    }\n",
       "\n",
       "    .dataframe tbody tr th {\n",
       "        vertical-align: top;\n",
       "    }\n",
       "\n",
       "    .dataframe thead th {\n",
       "        text-align: right;\n",
       "    }\n",
       "</style>\n",
       "<table border=\"1\" class=\"dataframe\">\n",
       "  <thead>\n",
       "    <tr style=\"text-align: right;\">\n",
       "      <th></th>\n",
       "      <th>0</th>\n",
       "      <th>1</th>\n",
       "    </tr>\n",
       "  </thead>\n",
       "  <tbody>\n",
       "    <tr>\n",
       "      <th>0</th>\n",
       "      <td>62</td>\n",
       "      <td>0</td>\n",
       "    </tr>\n",
       "    <tr>\n",
       "      <th>1</th>\n",
       "      <td>3</td>\n",
       "      <td>0</td>\n",
       "    </tr>\n",
       "  </tbody>\n",
       "</table>\n",
       "</div>"
      ],
      "text/plain": [
       "    0  1\n",
       "0  62  0\n",
       "1   3  0"
      ]
     },
     "metadata": {},
     "output_type": "display_data"
    },
    {
     "data": {
      "image/png": "[encoded data removed]",
      "text/plain": [
       "<Figure size 432x216 with 1 Axes>"
      ]
     },
     "metadata": {
      "needs_background": "light"
     },
     "output_type": "display_data"
    }
   ],
   "source": [
    "cid='case07'\n",
    "data_infer= load_moldcase([cid])\n",
    "c = data_infer[f'{cid}_caseinfo'] \n",
    "df_ctr = data_infer[f'{cid}_plc']\n",
    "df_hv = data_infer[f'{cid}_hv']\n",
    "df_ctr['dt'] = df_ctr['dt'].map(lambda x: datetime.datetime.strptime(x, '%Y-%m-%d %H:%M:%S.%f'))\n",
    "\n",
    "df_hv['is_defect'] =  df_hv['isdefect_clamp'] + df_hv['isdefect_eject'] + df_hv['isdefect_inject'] + df_hv['isdefect_temp']\n",
    "df_hv['is_defect'] = df_hv['is_defect'].map(lambda x:x>=1)\n",
    "defectmolds = df_hv[df_hv['is_defect']>=1]['moldidx'].values\n",
    "df_ctr['isDefect'] = df_ctr['SPC_0'].map(lambda x: 1 if x in defectmolds else 0)\n",
    "df_ctr.loc[:c.evt_str]['isDefect']=0\n",
    "df_ctr = df_ctr[:c.evt_end]\n",
    "data_X = df_ctr[spc_feature]\n",
    "data_y = df_ctr['isDefect']\n",
    "pred = pipe.predict(data_X)\n",
    "pca_X = pipe.named_steps['pca'].transform(data_X)\n",
    "myclassification_report(data_y, pred, pca_X)\n"
   ]
  },
  {
   "cell_type": "code",
   "execution_count": null,
   "metadata": {},
   "outputs": [],
   "source": []
  },
  {
   "cell_type": "code",
   "execution_count": null,
   "metadata": {},
   "outputs": [],
   "source": []
  }
 ],
 "metadata": {
  "kernelspec": {
   "display_name": "Python 3",
   "language": "python",
   "name": "python3"
  },
  "language_info": {
   "codemirror_mode": {
    "name": "ipython",
    "version": 3
   },
   "file_extension": ".py",
   "mimetype": "text/x-python",
   "name": "python",
   "nbconvert_exporter": "python",
   "pygments_lexer": "ipython3",
   "version": "3.6.5"
  }
 },
 "nbformat": 4,
 "nbformat_minor": 2
}

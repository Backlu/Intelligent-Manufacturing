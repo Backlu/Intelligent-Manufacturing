{
 "cells": [
  {
   "cell_type": "markdown",
   "metadata": {},
   "source": [
    "# IAI CNC Competiton 2018\n",
    "\n",
    "Copyright © 2019 Hsu Shih-Chieh\n",
    "\n",
    "刀具铣切次数預測"
   ]
  },
  {
   "cell_type": "code",
   "execution_count": 3,
   "metadata": {},
   "outputs": [
    {
     "name": "stdout",
     "output_type": "stream",
     "text": [
      "The autoreload extension is already loaded. To reload it, use:\n",
      "  %reload_ext autoreload\n"
     ]
    }
   ],
   "source": [
    "%load_ext autoreload\n",
    "%autoreload 2\n",
    "import warnings\n",
    "warnings.filterwarnings(\"ignore\")\n",
    "import sys, os, datetime, warnings, scipy, collections, random, pywt, time, matplotlib\n",
    "#traceback, shutil, progressbar, pylab, itertools, pickle\n",
    "import pandas as pd \n",
    "import numpy as np\n",
    "from scipy import signal, stats\n",
    "from scipy.stats import skew, kurtosis, norm\n",
    "from sklearn.externals import joblib \n",
    "from sklearn import decomposition, mixture\n",
    "from sklearn.model_selection import train_test_split\n",
    "from sklearn.metrics import mean_squared_error\n",
    "import xgboost as xgb\n",
    "from matplotlib import pyplot as plt\n",
    "from tqdm import tqdm_notebook\n",
    "from datetime import timedelta\n",
    "from statsmodels.tsa.seasonal import seasonal_decompose\n",
    "from scipy.stats import skew, kurtosis, norm\n",
    "from sklearn.base import BaseEstimator, RegressorMixin\n",
    "from datasets import load_iaicnc\n",
    "from utils import set_font_cn\n",
    "from utils import Bunch\n",
    "from utils import cnc_featuring, cnc_predict\n",
    "\n",
    "\n",
    "set_font_cn()"
   ]
  },
  {
   "cell_type": "markdown",
   "metadata": {},
   "source": [
    "### Load Data"
   ]
  },
  {
   "cell_type": "code",
   "execution_count": 4,
   "metadata": {},
   "outputs": [
    {
     "name": "stderr",
     "output_type": "stream",
     "text": [
      "2it [00:00, 11.54it/s]"
     ]
    },
    {
     "name": "stdout",
     "output_type": "stream",
     "text": [
      "重新讀取數據\n",
      "wear_A (315, 6)\n",
      "wear_B (273, 6)\n",
      "/Users/jayhsu/work/Intelligent Manufacturing/datasets/data/iai_cnc/Train_A/Train_A 315\n"
     ]
    },
    {
     "name": "stderr",
     "output_type": "stream",
     "text": [
      "315it [00:36,  8.61it/s]\n",
      "0it [00:00, ?it/s]"
     ]
    },
    {
     "name": "stdout",
     "output_type": "stream",
     "text": [
      "/Users/jayhsu/work/Intelligent Manufacturing/datasets/data/iai_cnc/Train_B/Train_B 315\n"
     ]
    },
    {
     "name": "stderr",
     "output_type": "stream",
     "text": [
      "315it [00:30, 10.41it/s]\n",
      "1it [00:00,  9.40it/s]"
     ]
    },
    {
     "name": "stdout",
     "output_type": "stream",
     "text": [
      "/Users/jayhsu/work/Intelligent Manufacturing/datasets/data/iai_cnc/Test/Test 315\n"
     ]
    },
    {
     "name": "stderr",
     "output_type": "stream",
     "text": [
      "315it [00:35,  8.85it/s]\n"
     ]
    },
    {
     "ename": "NameError",
     "evalue": "name 'data' is not defined",
     "output_type": "error",
     "traceback": [
      "\u001b[0;31m---------------------------------------------------------------------------\u001b[0m",
      "\u001b[0;31mNameError\u001b[0m                                 Traceback (most recent call last)",
      "\u001b[0;32m<ipython-input-4-fd6a6f97ce1d>\u001b[0m in \u001b[0;36m<module>\u001b[0;34m()\u001b[0m\n\u001b[1;32m      1\u001b[0m \u001b[0mdatasets\u001b[0m \u001b[0;34m=\u001b[0m \u001b[0mload_iaicnc\u001b[0m\u001b[0;34m(\u001b[0m\u001b[0;34m)\u001b[0m\u001b[0;34m\u001b[0m\u001b[0m\n\u001b[0;32m----> 2\u001b[0;31m \u001b[0mprint\u001b[0m\u001b[0;34m(\u001b[0m\u001b[0mdata\u001b[0m\u001b[0;34m.\u001b[0m\u001b[0mDESCR\u001b[0m\u001b[0;34m)\u001b[0m\u001b[0;34m\u001b[0m\u001b[0m\n\u001b[0m",
      "\u001b[0;31mNameError\u001b[0m: name 'data' is not defined"
     ]
    }
   ],
   "source": [
    "datasets = load_iaicnc()\n",
    "print(data.DESCR)"
   ]
  },
  {
   "cell_type": "markdown",
   "metadata": {},
   "source": [
    "### Featuring"
   ]
  },
  {
   "cell_type": "code",
   "execution_count": null,
   "metadata": {},
   "outputs": [],
   "source": [
    "if os.path.exists('model/iaicnc_feature.pkl'):\n",
    "    print('讀取特徵暫存檔')\n",
    "    cache_feature = joblib.load('model/iaicnc_feature.pkl')   \n",
    "    trA_feature=cache_feature.trA_feature\n",
    "    trB_feature=cache_feature.trB_feature\n",
    "    ts_feature = cache_feature.ts_feature\n",
    "else:\n",
    "    print('暫存檔不存在, 重新計算特徵')\n",
    "    trA_feature = cnc_featuring(datasets.trA)\n",
    "    trB_feature = cnc_featuring(datasets.trB)\n",
    "    ts_feature = cnc_featuring(datasets.ts)   \n",
    "    cache_feature = Bunch(trA_feature=trA_feature, trB_feature=trB_feature, ts_feature=ts_feature, names = trA_feature.columns)\n",
    "    joblib.dump(cache_feature,'model/iaicnc_feature.pkl')       \n"
   ]
  },
  {
   "cell_type": "markdown",
   "metadata": {},
   "source": [
    "### Pre-Process\n",
    "- 刪掉不要的feature\n",
    "- 兩份刀具的數據合併"
   ]
  },
  {
   "cell_type": "code",
   "execution_count": null,
   "metadata": {},
   "outputs": [],
   "source": [
    "selectedfeature = trA_feature.columns\n",
    "#刪掉不要的feature\n",
    "if True:\n",
    "    selectedfeature = list(filter(lambda x: 'v_stableFreq' not in x, selectedfeature)) #v取樣頻率太小, 沒辦法使用頻域特徵\n",
    "    selectedfeature = list(filter(lambda x: 'g_cut1mean' not in x, selectedfeature)) #震動的cut-in, cut-out mean看起來沒有趨勢\n",
    "    selectedfeature = list(filter(lambda x: 'g_cut2mean' not in x, selectedfeature))\n",
    "print('feature qty:',len(selectedfeature))\n",
    "\n",
    "\n",
    "\n",
    "#Combind AX, BX, Ay, By\n",
    "data_ABX = pd.concat((trA_feature[selectedfeature], trB_feature[selectedfeature]))\n",
    "data_ABy_min = np.concatenate((datasets.wear_A['flute_min'], datasets.wear_B['flute_min']),axis = 0)\n",
    "data_ABy_mean = np.concatenate((datasets.wear_A['flute_mean'], datasets.wear_B['flute_mean']),axis = 0)\n",
    "data_ABy_max = np.concatenate((datasets.wear_A['flute_max'], datasets.wear_B['flute_max']),axis = 0)\n",
    "tsx = ts_feature[selectedfeature]\n",
    "\n",
    "def getTrainingData(y):\n",
    "    X_tr, X_ts, Y_tr, Y_ts, _, _ = train_test_split(data_ABX, y, np.arange(len(y.flatten())), random_state=0, test_size=1)\n",
    "    X_tr = X_tr.fillna(method='ffill')\n",
    "    X_tr = X_tr.fillna(method='bfill')\n",
    "    X_ts = X_ts.fillna(method='ffill')\n",
    "    X_ts = X_ts.fillna(method='bfill')\n",
    "    return X_tr, X_ts, Y_tr, Y_ts\n",
    "\n",
    "X_tr, X_ts, Y_tr, Y_ts = getTrainingData(data_ABy_min)\n",
    "print('X_tr shape:',X_tr.shape)\n",
    "print('X_ts shape:',X_ts.shape)\n"
   ]
  },
  {
   "cell_type": "markdown",
   "metadata": {},
   "source": [
    "### Model Training"
   ]
  },
  {
   "cell_type": "code",
   "execution_count": null,
   "metadata": {},
   "outputs": [],
   "source": [
    "starttime = datetime.datetime.now()\n",
    "#---- 分別用磨耗mean與max建立Model ----\n",
    "xgbr = xgb.XGBRegressor(n_jobs=-1, n_estimators=300, max_depth=5, reg_lambda=0.9,  learning_rate=0.03, subsample=0.9, colsample_bylevel=0.9, colsample_bytree=0.9) \n",
    "X_tr, X_ts, Y_tr, Y_ts = getTrainingData(y=data_ABy_mean)\n",
    "model_mean = xgbr.fit(X_tr.values, Y_tr)\n",
    "\n",
    "xgbr = xgb.XGBRegressor(n_jobs=-1, n_estimators=200, max_depth=5, reg_lambda=0.9,  learning_rate=0.03, subsample=0.9, colsample_bylevel=0.9, colsample_bytree=0.9) \n",
    "X_tr, X_ts, Y_tr, Y_ts = getTrainingData(y=data_ABy_max)\n",
    "model_max = xgbr.fit(X_tr.values, Y_tr)\n",
    "walltime = (datetime.datetime.now() - starttime)\n",
    "print('Model Training', 'Wall time:', round(walltime.total_seconds(),2), 'secondes')\n"
   ]
  },
  {
   "cell_type": "markdown",
   "metadata": {},
   "source": [
    "### Prediction"
   ]
  },
  {
   "cell_type": "code",
   "execution_count": null,
   "metadata": {},
   "outputs": [],
   "source": [
    "#%%time\n",
    "starttime = datetime.datetime.now()\n",
    "cutcnt_max = cnc_predict(model_mean, model_max)\n",
    "walltime = (datetime.datetime.now() - starttime)\n",
    "print('Prediction','Wall time:', round(walltime.total_seconds(),3), 'secondes')\n"
   ]
  },
  {
   "cell_type": "code",
   "execution_count": null,
   "metadata": {},
   "outputs": [],
   "source": []
  },
  {
   "cell_type": "code",
   "execution_count": null,
   "metadata": {},
   "outputs": [],
   "source": []
  }
 ],
 "metadata": {
  "kernelspec": {
   "display_name": "Python 3",
   "language": "python",
   "name": "python3"
  },
  "language_info": {
   "codemirror_mode": {
    "name": "ipython",
    "version": 3
   },
   "file_extension": ".py",
   "mimetype": "text/x-python",
   "name": "python",
   "nbconvert_exporter": "python",
   "pygments_lexer": "ipython3",
   "version": "3.6.5"
  }
 },
 "nbformat": 4,
 "nbformat_minor": 2
}

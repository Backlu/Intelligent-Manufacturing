{
 "cells": [
  {
   "cell_type": "markdown",
   "metadata": {},
   "source": [
    "# Case - 成型機PHM,  案例分類 - 關聯規則\n",
    "\n",
    "Copyright © 2019 Hsu Shih-Chieh \n",
    "\n",
    "利用關連規則找出特定類型案例的參數變化規則\n",
    "\n",
    "算法筆記: https://hackmd.io/@JHSU/BJCyWchPr\n"
   ]
  },
  {
   "cell_type": "code",
   "execution_count": 108,
   "metadata": {
    "scrolled": true
   },
   "outputs": [
    {
     "name": "stdout",
     "output_type": "stream",
     "text": [
      "The autoreload extension is already loaded. To reload it, use:\n",
      "  %reload_ext autoreload\n"
     ]
    }
   ],
   "source": [
    "%load_ext autoreload\n",
    "%autoreload 2\n",
    "%matplotlib inline\n",
    "import warnings, matplotlib, datetime\n",
    "warnings.filterwarnings(\"ignore\")\n",
    "import numpy as np\n",
    "import pandas as pd\n",
    "import matplotlib as mpl\n",
    "from matplotlib import pyplot as plt\n",
    "from datasets import load_moldcase\n",
    "from utils import set_font_cn\n",
    "from IPython.display import display\n",
    "from tqdm.notebook import tqdm\n",
    "from collections import Counter\n",
    "from sklearn.preprocessing import MinMaxScaler\n",
    "from apyori import apriori\n",
    "set_font_cn()"
   ]
  },
  {
   "cell_type": "markdown",
   "metadata": {},
   "source": [
    "### Load Data"
   ]
  },
  {
   "cell_type": "code",
   "execution_count": 2,
   "metadata": {},
   "outputs": [],
   "source": [
    "clist=[]\n",
    "for i in range(1,6):\n",
    "    clist.append(\"case%02d\"%i)\n"
   ]
  },
  {
   "cell_type": "code",
   "execution_count": 3,
   "metadata": {},
   "outputs": [
    {
     "name": "stdout",
     "output_type": "stream",
     "text": [
      "成型機案例數據\n",
      "---------------------------\n",
      "\n",
      "**Data Set Characteristics::**\n",
      "\n",
      "    :控制器數據: 從控制器取出的螺桿位置, 油壓缸壓力, 料管溫度的數據統計值, 總共有44種數據\n",
      "    \n",
      "    :設備健康值數據: 透過高維度SPC監控方法(PCA T2/SPE)計算後的設備健康值, 設備運作時實時運算, 並存入sqlite\n",
      "    \n",
      "    :spccol_mapping: PLC數據欄位的中英文對照表\n",
      "    \n",
      "    :caseinfo: 每一個案例的詳細資訊\n",
      "\n",
      "\n",
      "\n",
      "**讀取數據Sample Code**\n",
      "\n",
      "::\n",
      "    data= load_moldcase()\n",
      "    c = data.case01_caseinfo\n",
      "    df_ctr = data.case01_plc\n",
      "    df_hv = data.case01_hv\n",
      "\n",
      "\n",
      "**Model Characteristics**\n",
      "    \n",
      "    :設備異常監控: PCA T2/SPE\n",
      "    \n",
      "    :設備異常分類(方法一): 案例的參數趨勢分析\n",
      "        - Source Code: data_molding_TrendAnalysis.ipynb\n",
      "        - 算法筆記: https://hackmd.io/@JHSU/By3uWuwPH\n",
      "    \n",
      "    :設備異常分類(方法一): 分析每一個兩個案例的之間的參數變化相似性\n",
      "        - Source Code: data_molding_DTW.ipynb\n",
      "        - 算法筆記: https://hackmd.io/@JHSU/HyCnabcPH\n",
      "\n",
      "\n",
      "專案說明：\n",
      "這個專案與控制器廠商合作, 從控制器中取出螺桿位置, 油壓缸壓力, 料管溫度這三項特徵數據, 但因為控制器性能限制, 無法將實時數據取出, 退而求其次, 透過控制器本身的SPC監控功能, 取出這三項特徵的44種統計數據(ex: 最大值, 最小值,...), 並透過這些數據進行設備異常監控與設備異常分類\n",
      "\n",
      "\n",
      "\n"
     ]
    }
   ],
   "source": [
    "data= load_moldcase(clist)\n",
    "print(data.DESCR)"
   ]
  },
  {
   "cell_type": "markdown",
   "metadata": {},
   "source": [
    "### Pre-process\n",
    "- 準備關聯分析要用的數據\n",
    "    - 訓練案例數據 - df_evt"
   ]
  },
  {
   "cell_type": "code",
   "execution_count": 4,
   "metadata": {},
   "outputs": [
    {
     "name": "stdout",
     "output_type": "stream",
     "text": [
      "D2 A05 9/10 清模\n",
      "(11, 11)\n",
      "D2 A05 9/11 清模\n",
      "(9, 11)\n",
      "D2 A05 9/12 清模\n",
      "(7, 11)\n",
      "D2 A01 9/9 清模\n",
      "(8, 11)\n",
      "D2 A05 9/9 清模\n",
      "(7, 11)\n"
     ]
    }
   ],
   "source": [
    "spc_feature=['SPC_7','SPC_6','SPC_40','SPC_9','SPC_19','SPC_20','SPC_24','SPC_28','SPC_32','SPC_33']\n",
    "spccol_mapping = data.spccol_mapping\n",
    "#準備數據 (Case1~5 清模案例)\n",
    "dflist = []\n",
    "for cname in clist:\n",
    "    c = data[f'{cname}_caseinfo']\n",
    "    print(c.cname)\n",
    "    df_ctr = data[f'{cname}_plc'] \n",
    "    df_ctr['dt'] = df_ctr['dt'].map(lambda x: datetime.datetime.strptime(x, '%Y-%m-%d %H:%M:%S.%f'))\n",
    "    df_hv = data[f'{cname}_hv'] \n",
    "    df_hv['is_defect'] =  df_hv['isdefect_clamp'] + df_hv['isdefect_eject'] + df_hv['isdefect_inject'] + df_hv['isdefect_temp']\n",
    "    df_hv['is_defect'] = df_hv['is_defect'].map(lambda x:x>=1)\n",
    "    defectmolds = df_hv[df_hv['is_defect']>=1]['moldidx'].values\n",
    "    df_ctr_defect = df_ctr[df_ctr['SPC_0'].isin(defectmolds)]\n",
    "    df_ctr_defect = df_ctr_defect.loc[c.evt_str:c.evt_end]        \n",
    "    df_evt = df_ctr.loc[c.evt_str:c.evt_end]        \n",
    "    df_ctr_ok = df_ctr[~df_ctr['SPC_0'].isin(defectmolds)]\n",
    "    df_evtDev =df_evt[spc_feature]-df_ctr_ok[spc_feature].median()\n",
    "    df_evtDev =df_evtDev.applymap(lambda x: '變大' if x>0 else '變小' if x!=0 else '不變')\n",
    "    df_evtDev['isDefect'] = df_evt['SPC_0'].map(lambda x: '異常' if x in defectmolds else '正常')\n",
    "    print(df_evtDev.shape)\n",
    "    dflist.append(df_evtDev)\n",
    "\n",
    "    \n",
    "df_evt = pd.concat(dflist)\n",
    "df_evt['isDefect'].value_counts()\n",
    "\n",
    "for f in spc_feature:\n",
    "    df_evt[f] = spccol_mapping[f] +' '+ df_evt[f]\n",
    "\n"
   ]
  },
  {
   "cell_type": "markdown",
   "metadata": {},
   "source": [
    "### 關聯分析\n",
    "以下為分析步驟\n",
    "1. 設定規則篩選條件\n",
    "    - support > 健康值異常數據點出現機率的一半\n",
    "    - confidence > 0.8\n",
    "    - lift > 1\n",
    "2. 只留下Y為“異常”的規則\n",
    "    分析結果 - rulebase  "
   ]
  },
  {
   "cell_type": "code",
   "execution_count": 14,
   "metadata": {},
   "outputs": [
    {
     "name": "stdout",
     "output_type": "stream",
     "text": [
      "規則數量 31\n"
     ]
    },
    {
     "data": {
      "text/plain": [
       "[('溫度2段 變小,開模峰速 變大,頂出終點 變小', 0.86, 0.29, 1.89),\n",
       " ('溫度2段 變小,溫度3段 變大,開模峰速 變大,頂出終點 變小', 0.86, 0.29, 1.89),\n",
       " ('溫度2段 變小,射出最前 變小,開模峰速 變大,頂出終點 變小', 0.85, 0.26, 1.87),\n",
       " ('溫度2段 變小,射出終點 變小,開模峰速 變大,頂出終點 變小', 0.85, 0.26, 1.87),\n",
       " ('溫度2段 變小,開模峰速 變大,頂出終點 變小,射出開始位置 變大', 0.85, 0.26, 1.87),\n",
       " ('射出最前 變小,開模峰速 變大,溫度2段 變小,頂出終點 變小,射出終點 變小', 0.85, 0.26, 1.87),\n",
       " ('射出最前 變小,開模峰速 變大,溫度2段 變小,頂出終點 變小,溫度3段 變大', 0.85, 0.26, 1.87),\n",
       " ('開模峰速 變大,溫度2段 變小,頂出終點 變小,射出終點 變小,溫度3段 變大', 0.85, 0.26, 1.87),\n",
       " ('開模峰速 變大,溫度2段 變小,頂出終點 變小,射出開始位置 變大,溫度3段 變大', 0.85, 0.26, 1.87),\n",
       " ('射出最前 變小,開模峰速 變大,溫度2段 變小,頂出終點 變小,射出終點 變小,溫度3段 變大', 0.85, 0.26, 1.87),\n",
       " ('開模峰速 變大,頂出峰速 變小,射出開始位置 變大', 0.83, 0.24, 1.84),\n",
       " ('溫度2段 變小,開模峰速 變大,頂出峰速 變小', 0.83, 0.24, 1.84),\n",
       " ('溫度3段 變大,開模峰速 變大,頂出峰速 變小', 0.83, 0.24, 1.84),\n",
       " ('射出最前 變小,開模峰速 變大,射出開始位置 變大,頂出終點 變小', 0.83, 0.24, 1.84),\n",
       " ('射出終點 變小,開模峰速 變大,頂出終點 變小,射出開始位置 變大', 0.83, 0.24, 1.84),\n",
       " ('溫度2段 變小,開模峰速 變大,頂出峰速 變小,射出開始位置 變大', 0.83, 0.24, 1.84),\n",
       " ('頂出峰速 變小,溫度3段 變大,開模峰速 變大,射出開始位置 變大', 0.83, 0.24, 1.84),\n",
       " ('溫度2段 變小,溫度3段 變大,開模峰速 變大,頂出峰速 變小', 0.83, 0.24, 1.84),\n",
       " ('溫度2段 變小,開模峰速 變大,頂出終點 變小,鬆退終點 變大', 0.83, 0.24, 1.84),\n",
       " ('射出最前 變小,開模峰速 變大,頂出終點 變小,射出開始位置 變大,射出終點 變小', 0.83, 0.24, 1.84),\n",
       " ('射出最前 變小,開模峰速 變大,溫度2段 變小,頂出終點 變小,射出開始位置 變大', 0.83, 0.24, 1.84),\n",
       " ('射出最前 變小,開模峰速 變大,頂出終點 變小,射出開始位置 變大,溫度3段 變大', 0.83, 0.24, 1.84),\n",
       " ('開模峰速 變大,溫度2段 變小,頂出終點 變小,射出開始位置 變大,射出終點 變小', 0.83, 0.24, 1.84),\n",
       " ('開模峰速 變大,頂出終點 變小,射出開始位置 變大,射出終點 變小,溫度3段 變大', 0.83, 0.24, 1.84),\n",
       " ('開模峰速 變大,溫度2段 變小,頂出峰速 變小,射出開始位置 變大,溫度3段 變大', 0.83, 0.24, 1.84),\n",
       " ('開模峰速 變大,溫度2段 變小,鬆退終點 變大,頂出終點 變小,溫度3段 變大', 0.83, 0.24, 1.84),\n",
       " ('射出最前 變小,開模峰速 變大,溫度2段 變小,頂出終點 變小,射出開始位置 變大,射出終點 變小', 0.83, 0.24, 1.84),\n",
       " ('射出最前 變小,開模峰速 變大,頂出終點 變小,射出開始位置 變大,射出終點 變小,溫度3段 變大', 0.83, 0.24, 1.84),\n",
       " ('射出最前 變小,開模峰速 變大,溫度2段 變小,頂出終點 變小,射出開始位置 變大,溫度3段 變大', 0.83, 0.24, 1.84),\n",
       " ('開模峰速 變大,溫度2段 變小,頂出終點 變小,射出開始位置 變大,射出終點 變小,溫度3段 變大', 0.83, 0.24, 1.84),\n",
       " ('射出最前 變小,開模峰速 變大,溫度2段 變小,頂出終點 變小,射出開始位置 變大,射出終點 變小,溫度3段 變大',\n",
       "  0.83,\n",
       "  0.24,\n",
       "  1.84)]"
      ]
     },
     "metadata": {},
     "output_type": "display_data"
    }
   ],
   "source": [
    "\n",
    "min_support = df_evt[df_evt['isDefect']=='異常'].shape[0]/df_evt.shape[0]/2\n",
    "association_rules=apriori(np.array(df_evt),min_support=min_support, min_confidence=0.8, min_lift=1, max_length=11) \n",
    "association_results = list(association_rules)\n",
    "\n",
    "rulebase = []\n",
    "for rule in association_results:\n",
    "    support = rule.support\n",
    "    items = rule.items   \n",
    "    for st in rule.ordered_statistics:\n",
    "        x = st.items_base\n",
    "        y = st.items_add\n",
    "        confidence = st.confidence\n",
    "        lift = st.lift\n",
    "        if ('異常' in list(y)):  \n",
    "            rulebase.append((','.join(x),np.round(confidence,2),np.round(support,2),np.round(lift,2)))\n",
    "\n",
    "rulebase = sorted(rulebase, key=lambda x : x[1], reverse=True)    \n",
    "print(\"規則數量\",len(rulebase))\n",
    "display(rulebase)\n"
   ]
  },
  {
   "cell_type": "markdown",
   "metadata": {},
   "source": [
    "### Inference\n",
    "- 推論Case和案例規則庫的吻合程度\n",
    "\n",
    "Issue:\n",
    "- 吻合的筆數很少\n",
    "\n",
    "- TODO: 更改score的算法\n",
    "    1. 算每一條規則的IOU (交集/連集)\n",
    "    2. 平均分數"
   ]
  },
  {
   "cell_type": "code",
   "execution_count": 98,
   "metadata": {},
   "outputs": [],
   "source": [
    "\n",
    "def trendAnzlysis(cid): \n",
    "    '''\n",
    "    參考 data_molding_TrendAnalysis.ipynb \n",
    "    '''\n",
    "    data_infer= load_moldcase([cid])\n",
    "    c = data_infer[f'{cid}_caseinfo'] \n",
    "    df_ctr = data_infer[f'{cid}_plc']\n",
    "    df_hv = data_infer[f'{cid}_hv']\n",
    "    df_ctr['dt'] = df_ctr['dt'].map(lambda x: datetime.datetime.strptime(x, '%Y-%m-%d %H:%M:%S.%f'))\n",
    "    df_hv['is_defect'] =  df_hv['isdefect_clamp'] + df_hv['isdefect_eject'] + df_hv['isdefect_inject'] + df_hv['isdefect_temp']\n",
    "    df_hv['is_defect'] = df_hv['is_defect'].map(lambda x:x>=1)\n",
    "    defectmolds = df_hv[df_hv['is_defect']>=1]['moldidx'].values\n",
    "    df_ctr_defect = df_ctr[df_ctr['SPC_0'].isin(defectmolds)]\n",
    "    df_ctr_defect = df_ctr_defect.loc[c.evt_str:c.evt_end]        \n",
    "    df_ctr_ok = df_ctr[~df_ctr['SPC_0'].isin(defectmolds)]\n",
    "    spc_feature=['SPC_7','SPC_6','SPC_40','SPC_9','SPC_19','SPC_20','SPC_24','SPC_28','SPC_32','SPC_33']\n",
    "    spccol_mapping = data.spccol_mapping\n",
    "\n",
    "    df_ctr_defectDev =df_ctr_defect[spc_feature]-df_ctr_ok[spc_feature].median()\n",
    "    df_ctr_defectDev =df_ctr_defectDev.applymap(lambda x: '變大' if x>0 else '變小' if x!=0 else '不變')\n",
    "\n",
    "    def fn_cnt(col):\n",
    "        word_counts = Counter(col)\n",
    "        ret = pd.Series([word_counts['不變'],word_counts['變小'],word_counts['變大']])\n",
    "        return ret\n",
    "\n",
    "    df_devSummary = df_ctr_defectDev.apply(lambda x: fn_cnt(x))\n",
    "    df_devSummary = df_devSummary.T\n",
    "    df_devSummary.columns=['不變','變小','變大']\n",
    "    summ=df_devSummary.sum(axis=1)\n",
    "    df_devSummary['不變%']=df_devSummary['不變']/summ\n",
    "    df_devSummary['變小%']=df_devSummary['變小']/summ\n",
    "    df_devSummary['變大%']=df_devSummary['變大']/summ\n",
    "\n",
    "    def fn_summary(row):\n",
    "        tr = np.argmax(row)\n",
    "        v = str(row[tr]/sum(row)*100)+'%'\n",
    "        return ' '.join([tr,v])\n",
    "\n",
    "    df_devSummary['summary']=df_devSummary[['不變','變小','變大']].apply(fn_summary, axis=1)\n",
    "    df_devSummary['paraname'] = df_devSummary.index.map(lambda x:spccol_mapping[x])\n",
    "    df_devSummary['trend'] = df_devSummary['summary'].map(lambda x: x.split(' ')[0])\n",
    "    df_devSummary['feature'] = df_devSummary[['paraname', 'trend']].apply(lambda x: ' '.join(x), axis=1)                \n",
    "    case_feature = df_devSummary['feature'].values        \n",
    "    #print(case_feature)\n",
    "    return case_feature\n",
    "\n",
    "\n",
    "\n"
   ]
  },
  {
   "cell_type": "code",
   "execution_count": 107,
   "metadata": {},
   "outputs": [
    {
     "name": "stdout",
     "output_type": "stream",
     "text": [
      "score: 0\n"
     ]
    }
   ],
   "source": [
    "#case_feature=['溫度3段 變大','射出開始位置 變大','射出終點 變小','溫度2段 變小','頂出終點 變小','開模峰速 變大','射出最前 變小']\n",
    "case_feature = trendAnzlysis('case07')\n",
    "score=0\n",
    "for i,r in enumerate(rulebase[0:1]):\n",
    "    r_flag=True\n",
    "    for e in r[0].split(','):\n",
    "        #check e in case feature, if false, set flag to false and break\n",
    "        if e not in case_feature:\n",
    "            r_flag=False\n",
    "            break\n",
    "    if r_flag:\n",
    "        score=score+1\n",
    "\n",
    "print('score:',score)       "
   ]
  },
  {
   "cell_type": "code",
   "execution_count": null,
   "metadata": {},
   "outputs": [],
   "source": []
  }
 ],
 "metadata": {
  "kernelspec": {
   "display_name": "Python 3",
   "language": "python",
   "name": "python3"
  },
  "language_info": {
   "codemirror_mode": {
    "name": "ipython",
    "version": 3
   },
   "file_extension": ".py",
   "mimetype": "text/x-python",
   "name": "python",
   "nbconvert_exporter": "python",
   "pygments_lexer": "ipython3",
   "version": "3.6.5"
  }
 },
 "nbformat": 4,
 "nbformat_minor": 2
}

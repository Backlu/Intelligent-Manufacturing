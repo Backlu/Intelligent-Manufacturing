{
 "cells": [
  {
   "cell_type": "markdown",
   "metadata": {},
   "source": [
    "# Case - 十字彈片\n",
    "\n",
    "Copyright © 2019 Hsu Shih-Chieh\n"
   ]
  },
  {
   "cell_type": "code",
   "execution_count": 2,
   "metadata": {},
   "outputs": [
    {
     "name": "stdout",
     "output_type": "stream",
     "text": [
      "The autoreload extension is already loaded. To reload it, use:\n",
      "  %reload_ext autoreload\n"
     ]
    }
   ],
   "source": [
    "%load_ext autoreload\n",
    "%autoreload 2\n",
    "import keras, os\n",
    "import numpy as np\n",
    "from random import randint\n",
    "from datasets import load_hotmelt, load_hotmelt_generator\n",
    "import tensorflow as tf\n",
    "from sklearn.model_selection import train_test_split\n",
    "\n",
    "from keras.applications import MobileNet, MobileNetV2,DenseNet169, NASNetLarge, InceptionResNetV2, ResNet50\n",
    "from keras.applications.inception_resnet_v2 import preprocess_input\n",
    "#from efficientnet import EfficientNetB0\n",
    "\n",
    "from keras.layers import Dense,GlobalAveragePooling2D, Activation\n",
    "from keras.optimizers import SGD, Adagrad\n",
    "from keras.models import Model\n",
    "from keras.preprocessing.image import ImageDataGenerator\n",
    "from keras.callbacks import EarlyStopping, LearningRateScheduler, ModelCheckpoint, CSVLogger, TensorBoard, ReduceLROnPlateau, LambdaCallback\n",
    "\n",
    "import matplotlib.pyplot as plt\n",
    "from PIL import Image, ImageFont, ImageDraw\n",
    "\n",
    "from utils import overSampling, YOLOV3\n",
    "plt.rcParams['font.size'] = 9\n",
    "plt.rcParams['figure.figsize'] = (9,9)\n",
    "\n",
    "os.environ['CUDA_VISIBLE_DEVICES']='1' \n",
    "\n",
    "from utils import set_font_cn\n",
    "set_font_cn()\n"
   ]
  },
  {
   "cell_type": "markdown",
   "metadata": {},
   "source": [
    "### Load Data"
   ]
  },
  {
   "cell_type": "code",
   "execution_count": 1,
   "metadata": {},
   "outputs": [
    {
     "ename": "NameError",
     "evalue": "name 'load_hotmelt' is not defined",
     "output_type": "error",
     "traceback": [
      "\u001b[0;31m---------------------------------------------------------------------------\u001b[0m",
      "\u001b[0;31mNameError\u001b[0m                                 Traceback (most recent call last)",
      "\u001b[0;32m<ipython-input-1-7625672f22cc>\u001b[0m in \u001b[0;36m<module>\u001b[0;34m()\u001b[0m\n\u001b[0;32m----> 1\u001b[0;31m \u001b[0mdata\u001b[0m \u001b[0;34m=\u001b[0m \u001b[0mload_hotmelt\u001b[0m\u001b[0;34m(\u001b[0m\u001b[0;34m)\u001b[0m\u001b[0;34m\u001b[0m\u001b[0m\n\u001b[0m\u001b[1;32m      2\u001b[0m \u001b[0mprint\u001b[0m\u001b[0;34m(\u001b[0m\u001b[0mdata\u001b[0m\u001b[0;34m.\u001b[0m\u001b[0mDESCR\u001b[0m\u001b[0;34m)\u001b[0m\u001b[0;34m\u001b[0m\u001b[0m\n",
      "\u001b[0;31mNameError\u001b[0m: name 'load_hotmelt' is not defined"
     ]
    }
   ],
   "source": [
    "data = load_hotmelt()\n",
    "print(data.DESCR)"
   ]
  },
  {
   "cell_type": "markdown",
   "metadata": {},
   "source": [
    "### Preprocess \n",
    "- get ROI\n",
    "- oversampling "
   ]
  },
  {
   "cell_type": "code",
   "execution_count": null,
   "metadata": {},
   "outputs": [],
   "source": [
    "yolo=YOLOV3()"
   ]
  },
  {
   "cell_type": "code",
   "execution_count": null,
   "metadata": {},
   "outputs": [],
   "source": [
    "data.roi = np.array(list(map(lambda x: yolo.predict_roi(Image.fromarray(x)), data.data)))\n",
    "X_tr, X_ts, y_tr, y_ts = train_test_split(data.roi, data.target, test_size=0.2, random_state=40)\n",
    "X_tr, X_val, y_tr, y_val = train_test_split(X_tr, y_tr, test_size=0.2, random_state=40)\n",
    "X_tr, y_tr = overSampling(X_tr, y_tr)"
   ]
  },
  {
   "cell_type": "markdown",
   "metadata": {},
   "source": [
    "### Build Model"
   ]
  },
  {
   "cell_type": "code",
   "execution_count": null,
   "metadata": {},
   "outputs": [],
   "source": [
    "input_shape = (224, 224, 3)\n",
    "base_model=DenseNet169(weights='imagenet',include_top=False, input_shape=input_shape) \n",
    "x=base_model.output\n",
    "x=GlobalAveragePooling2D()(x)\n",
    "preds=Dense(5)(x) #final layer with softmax activation\n",
    "preds = Activation('softmax', name='prob')(preds)    \n",
    "model=Model(inputs=base_model.input,outputs=preds)\n",
    "\n",
    "opt = SGD(lr= 0.01, decay=1e-04, momentum=0.85, nesterov=True)\n",
    "model.compile(loss='categorical_crossentropy', optimizer=opt, metrics=['accuracy'])\n",
    "for idx, layer in enumerate(model.layers):\n",
    "    layer.trainable = True\n",
    "\n"
   ]
  },
  {
   "cell_type": "code",
   "execution_count": null,
   "metadata": {
    "scrolled": true
   },
   "outputs": [],
   "source": [
    "\n",
    "imgAug_tr = ImageDataGenerator(\n",
    "    samplewise_center=True, samplewise_std_normalization=True,\n",
    "    vertical_flip=True, horizontal_flip=True,\n",
    "    width_shift_range=0.02, height_shift_range=0.02,\n",
    "    zoom_range =[0.95,1.05],\n",
    ")\n",
    "\n",
    "imgAug_val = ImageDataGenerator(\n",
    "    samplewise_center=True, samplewise_std_normalization=True,\n",
    ")\n",
    "\n",
    "\n",
    "imgAug_tr.fit(X_tr)\n",
    "batch=19\n",
    "dgen_tr = imgAug_val.flow(X_tr, y_tr)\n",
    "dgen_val = imgAug_tr.flow(X_val, y_val, batch_size=batch)\n",
    "\n",
    "\n",
    "early_stop = EarlyStopping(monitor='loss', min_delta=0.001, patience=100, mode='min', verbose=1)\n",
    "reduce_lr = ReduceLROnPlateau(monitor='val_loss', factor=0.5, patience=5, min_lr=0.00001)\n",
    "#checkpointer=ModelCheckpoint(monitor='loss',filepath='model/ap5_tmp.h5', verbose=1, save_best_only=True, save_weights_only=True)\n",
    "callbacks = [reduce_lr, early_stop]\n",
    "    \n",
    "print('start training...')\n",
    "#model training\n",
    "history = model.fit_generator(dgen_tr, steps_per_epoch=X_tr.shape[0]//batch, validation_steps=X_val.shape[0]//batch, epochs=50, validation_data=dgen_val, callbacks=callbacks) \n"
   ]
  },
  {
   "cell_type": "code",
   "execution_count": null,
   "metadata": {},
   "outputs": [],
   "source": [
    "plt.figure(figsize=(6,6))\n",
    "plt.subplot(211)\n",
    "plt.plot(history.history['loss'], label='loss')\n",
    "plt.plot(history.history['val_loss'], label='val_loss')\n",
    "plt.legend()\n",
    "plt.subplot(212)\n",
    "plt.plot(history.history['acc'], label='acc')\n",
    "plt.plot(history.history['val_acc'], label='val_acc')\n",
    "plt.legend()\n",
    "plt.ylim((0, 1.1))\n",
    "plt.show()"
   ]
  },
  {
   "cell_type": "markdown",
   "metadata": {},
   "source": [
    "### Check Test Data Peroformance"
   ]
  },
  {
   "cell_type": "code",
   "execution_count": null,
   "metadata": {},
   "outputs": [],
   "source": [
    "predGen = ImageDataGenerator(\n",
    "    samplewise_center=True, samplewise_std_normalization=True,\n",
    ")\n",
    "\n",
    "ret = model.evaluate_generator(predGen.flow(X_tr, y_tr, shuffle=False), steps=X_tr.shape[0], verbose=1)\n",
    "print('tr,', 'loss:', ret[0], 'acc:',ret[1])\n",
    "\n",
    "ret = model.evaluate_generator(predGen.flow(X_val, y_val,shuffle=False), steps=X_val.shape[0], verbose=1)\n",
    "print('val', 'loss:', ret[0], 'acc:',ret[1])\n",
    "\n",
    "ret = model.evaluate_generator(predGen.flow(X_ts, y_ts,shuffle=False), steps=X_ts.shape[0], verbose=1)\n",
    "print('ts',  'loss:', ret[0], 'acc:',ret[1])"
   ]
  },
  {
   "cell_type": "markdown",
   "metadata": {},
   "source": [
    "### Tensorlite model"
   ]
  },
  {
   "cell_type": "code",
   "execution_count": null,
   "metadata": {},
   "outputs": [],
   "source": [
    "tflite_model_file = 'tfmodel/hotmelt.tflite'\n",
    "modelname='model/hotmelt.h5'\n",
    "model.save(modelname)\n",
    "converter = tf.lite.TFLiteConverter.from_keras_model_file(modelname, input_arrays=['input_7'], input_shapes={'input_7':[None,input_shape[0],input_shape[1],input_shape[2]]})\n",
    "#converter.optimizations = [tf.lite.Optimize.OPTIMIZE_FOR_SIZE]\n",
    "tflite_model = converter.convert()\n",
    "with open(tflite_model_file, 'wb') as f:\n",
    "    f.write(tflite_model)   \n",
    "\n",
    "  "
   ]
  },
  {
   "cell_type": "code",
   "execution_count": null,
   "metadata": {},
   "outputs": [],
   "source": [
    "tflite_model_file = 'tfmodel/hotmelt.tflite'\n",
    "interpreter = tf.lite.Interpreter(model_path=str(tflite_model_file))\n",
    "interpreter.allocate_tensors()\n",
    "input_index = interpreter.get_input_details()[0][\"index\"]\n",
    "output_index = interpreter.get_output_details()[0][\"index\"]      \n",
    "nb_test_samples = X_ts.shape[0]\n",
    "nb_rows, nb_cols = 5, 5\n",
    "    \n",
    "preds=[]\n",
    "idxs=[]\n",
    "for k in range(nb_rows * nb_cols):\n",
    "    i = randint(0, nb_test_samples - 1)\n",
    "    idxs.append(i)\n",
    "    interpreter.set_tensor(input_index, np.expand_dims(preprocess_input(X_ts[i].copy()), axis=0))\n",
    "    interpreter.invoke()\n",
    "    pred = interpreter.get_tensor(output_index)\n",
    "    preds.append(pred.flatten())\n",
    "\n",
    "plt.figure(figsize=(10,10))\n",
    "for k in range(nb_rows * nb_cols):\n",
    "    plt.subplot(nb_rows, nb_cols, k+1)\n",
    "    plt.imshow(X_ts[idxs[k]].astype(np.uint8))\n",
    "    r = 'OK' if np.argmax(preds[k]) == np.argmax(y_ts[idxs[k]]) else 'NG'\n",
    "    plt.title(f'p:{np.argmax(preds[k])}, a:{np.argmax(y_ts[idxs[k]])}, {r}')\n",
    "    plt.axis('off')    \n",
    "plt.tight_layout()\n",
    "plt.show()\n",
    "    \n"
   ]
  },
  {
   "cell_type": "code",
   "execution_count": null,
   "metadata": {},
   "outputs": [],
   "source": []
  },
  {
   "cell_type": "code",
   "execution_count": null,
   "metadata": {},
   "outputs": [],
   "source": []
  },
  {
   "cell_type": "code",
   "execution_count": null,
   "metadata": {},
   "outputs": [],
   "source": []
  },
  {
   "cell_type": "code",
   "execution_count": null,
   "metadata": {},
   "outputs": [],
   "source": []
  },
  {
   "cell_type": "code",
   "execution_count": null,
   "metadata": {},
   "outputs": [],
   "source": []
  },
  {
   "cell_type": "code",
   "execution_count": null,
   "metadata": {},
   "outputs": [],
   "source": []
  },
  {
   "cell_type": "code",
   "execution_count": null,
   "metadata": {},
   "outputs": [],
   "source": []
  },
  {
   "cell_type": "code",
   "execution_count": null,
   "metadata": {},
   "outputs": [],
   "source": []
  }
 ],
 "metadata": {
  "kernelspec": {
   "display_name": "Python 3",
   "language": "python",
   "name": "python3"
  },
  "language_info": {
   "codemirror_mode": {
    "name": "ipython",
    "version": 3
   },
   "file_extension": ".py",
   "mimetype": "text/x-python",
   "name": "python",
   "nbconvert_exporter": "python",
   "pygments_lexer": "ipython3",
   "version": "3.6.5"
  }
 },
 "nbformat": 4,
 "nbformat_minor": 2
}
